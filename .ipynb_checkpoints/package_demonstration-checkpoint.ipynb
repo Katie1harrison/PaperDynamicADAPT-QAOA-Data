{
 "cells": [
  {
   "attachments": {},
   "cell_type": "markdown",
   "metadata": {},
   "source": [
    "## Quantum Approximate Optimization Algorithm in Python\n",
    "\n",
    "This notebook demostrates how the package in this repository can be used to solve quadratic unconstrained binary optimisation (QUBO) problems, expressed in the context of the max-cut problem from graph theory, using a quantum algorithm.\n",
    "\n",
    "We start by first defining the graph using the $\\texttt{networkx}$ package in Python. In this example we will be considering a quite simple complete graph with 4 vertices, where the weights of each edge are\n",
    "uniformly distributed between 0 and 1."
   ]
  },
  {
   "cell_type": "code",
   "execution_count": 33,
   "metadata": {},
   "outputs": [],
   "source": [
    "import re\n",
    "import qiskit\n",
    "import json\n",
    "import time\n",
    "import numpy as np\n",
    "\n",
    "from qiskit import transpile\n",
    "from qiskit_aer import AerSimulator\n",
    "from qiskit.converters import circuit_to_dag\n",
    "\n",
    "from src_code import build_operators\n",
    "from src_code import graph_generator, get_data, build_operators"
   ]
  },
  {
   "cell_type": "code",
   "execution_count": null,
   "metadata": {},
   "outputs": [],
   "source": []
  },
  {
   "cell_type": "code",
   "execution_count": 34,
   "metadata": {},
   "outputs": [],
   "source": [
    "# Draw Graph\n",
    "# pos=nx.circular_layout(graph)\n",
    "# nx.draw_networkx(graph, pos)\n",
    "# labels = nx.get_edge_attributes(graph,'weight')\n",
    "# for edge in labels:\n",
    "#     labels[edge] = round(labels[edge], 3)\n",
    "# tmp = nx.draw_networkx_edge_labels(graph, pos, edge_labels=labels)\n"
   ]
  },
  {
   "attachments": {},
   "cell_type": "markdown",
   "metadata": {},
   "source": [
    "Once we have generated the graph, we can define the Ising Hamiltonian whose maximum energy eigenstate corresponds to the solution to the problem. This is given by $$\\hat{H}_C=-\\frac{1}{4}\\sum_{i,j=0}^{n-1}W_{ij}\\hat{Z}_i\\hat{Z}_j.$$ It should be noted that the eigenvalues of this Hamiltonian are not exactly equal to the values of their corresponding cuts. They differ by a constant term $A = \\frac{1}{4}\\sum_{i,j=0}^{n-1}W_{ij}$, which is removed as it doesn't influence to the operation of the algorithm. It is later added back in to generate correct results. Additionally, we can define all the commutators $$\\left[\\hat{H}_C,-i\\hat{A}\\right]\\quad\\forall \\quad\\hat{A}\\in\\mathcal{P}.$$ These are used to find the gradients in parameter space at each iteration which are used to determine which mixer operator from the pool $\\mathcal{P}$ to be added to the ADAPT-QAOA circuit in the current layer."
   ]
  },
  {
   "cell_type": "code",
   "execution_count": 35,
   "metadata": {},
   "outputs": [],
   "source": [
    "no_vertices = 3\n",
    "graph = graph_generator.generate_graph(no_vertices)\n",
    "\n",
    "weights = build_operators.cut_hamiltonian(graph[0])[1]\n",
    "\n",
    "gradient_ops_dict = build_operators.build_all_mixers(graph[0])\n",
    "\n",
    "filtered_gradient_ops_dict = {key: value for key, value in gradient_ops_dict.items() if 'Y' not in key}"
   ]
  },
  {
   "cell_type": "code",
   "execution_count": null,
   "metadata": {},
   "outputs": [],
   "source": []
  },
  {
   "attachments": {},
   "cell_type": "markdown",
   "metadata": {},
   "source": [
    "In order to make the generation of the unitaries in the ansatz quicker between iterations of both the overall algorithm and the classical optimsation scheme, it is useful to pre-compute all the Pauli strings appearing in the exponents of the unitaries. This then allows one to use the identity $$e^{i\\alpha\\hat{P}}=\\cos(\\alpha)\\hat{I}+i\\sin(\\alpha)\\hat{P}$$ for single Pauli strings, to find the unitaries using simple floating point arithmetic, rather than matrix exponentiation during each iteration."
   ]
  },
  {
   "cell_type": "code",
   "execution_count": 36,
   "metadata": {},
   "outputs": [],
   "source": [
    "pauli_ops_dict = build_operators.build_all_paulis(no_vertices)\n",
    "filtered_pauli_ops_dict = {key: value for key, value in pauli_ops_dict.items() if 'Y' not in key}\n"
   ]
  },
  {
   "attachments": {},
   "cell_type": "markdown",
   "metadata": {},
   "source": [
    "All this pre-computation allows for significant speed-up in the execution of the algorithms. We now move on to actually running QAOA on the graph. We first perform the standard non-adaptive algorithm. To do so we require to pick a specific depth for the circuit, i.e., the number of layers it will contain. We set this to 5."
   ]
  },
  {
   "cell_type": "code",
   "execution_count": 63,
   "metadata": {},
   "outputs": [],
   "source": [
    "circuit_depth = 2\n",
    "qaoa_solution = get_data.run_standard_qaoa(graph[0], depth=circuit_depth, pauli_ops_dict=pauli_ops_dict)"
   ]
  },
  {
   "cell_type": "code",
   "execution_count": 64,
   "metadata": {},
   "outputs": [
    {
     "name": "stdout",
     "output_type": "stream",
     "text": [
      "cut_approx_ratio: 0.9975880629031183\n",
      "ham_approx_ratio: 0.9947372465741234\n",
      "optimised_Hamiltonian_unitary_parameters: [-1.6408562359564474, 3.9669387104283538]\n",
      "optimised_mixer_unitary_parameters: [1.1498712384775749, 0.401598125972599]\n"
     ]
    }
   ],
   "source": [
    "for key in qaoa_solution:\n",
    "    print(key+':', qaoa_solution[key])"
   ]
  },
  {
   "attachments": {},
   "cell_type": "markdown",
   "metadata": {},
   "source": [
    "We now move on the ADAPT-QAOA. We use the same maximum depth of 5 as above."
   ]
  },
  {
   "cell_type": "code",
   "execution_count": 65,
   "metadata": {},
   "outputs": [
    {
     "name": "stdout",
     "output_type": "stream",
     "text": [
      "Initial Cut Approximation Ratio: 0.5416967314063463 \n",
      "\n",
      "Finding Best Mixer for layer 1...\n",
      "\tBest mixer is standard_x with gradient magnitude 0.026390259272443036\n",
      "\n",
      "Optimising layer 1...\n",
      "\tInitial Parameter Guesses: [0.0, 0.01]\n",
      "\tOptimisation completed wih following outcome:\n",
      "\t\tNumber of iterations performed: 14\n",
      "\t\tNumber of expectation evaluations performed: 57\n",
      "\t\tSuccess: True\n",
      "\t\tOptimiser message: Optimization terminated successfully.\n",
      "\tOptimised mixer unitary parameters: 0.358\n",
      "\tOptimised Hamiltonian unitary parameters: 1.16\n",
      "\n",
      "Current Cut Approximation Ratio: 0.8229297003698184\n",
      "State Probabilities:\n",
      "State 000: Probability 0.0044\n",
      "State 001: Probability 0.1116\n",
      "State 010: Probability 0.0916\n",
      "State 011: Probability 0.2924\n",
      "State 100: Probability 0.2924\n",
      "State 101: Probability 0.0916\n",
      "State 110: Probability 0.1116\n",
      "State 111: Probability 0.0044\n",
      "\n",
      "\n",
      "Finding Best Mixer for layer 2...\n",
      "\tBest mixer is X2 with gradient magnitude 0.21425298911048063\n",
      "\n",
      "Optimising layer 2...\n",
      "\tInitial Parameter Guesses: [0.3583260858193264, 0.0, 1.1613738014216684, 0.01]\n",
      "\tOptimisation completed wih following outcome:\n",
      "\t\tNumber of iterations performed: 11\n",
      "\t\tNumber of expectation evaluations performed: 70\n",
      "\t\tSuccess: True\n",
      "\t\tOptimiser message: Optimization terminated successfully.\n",
      "\tOptimised mixer unitary parameters: 0.787, -0.918\n",
      "\tOptimised Hamiltonian unitary parameters: 1.94, 0.00202\n",
      "\n",
      "Current Cut Approximation Ratio: 0.998635495169607\n",
      "State Probabilities:\n",
      "State 000: Probability 0.0000\n",
      "State 001: Probability 0.0010\n",
      "State 010: Probability 0.0006\n",
      "State 011: Probability 0.4983\n",
      "State 100: Probability 0.4983\n",
      "State 101: Probability 0.0006\n",
      "State 110: Probability 0.0010\n",
      "State 111: Probability 0.0000\n",
      "\n",
      "\n"
     ]
    }
   ],
   "source": [
    "adapt_qaoa_solution = get_data.run_adapt_qaoa(graph[0], filtered_pauli_ops_dict, filtered_gradient_ops_dict, circuit_depth)"
   ]
  },
  {
   "cell_type": "code",
   "execution_count": null,
   "metadata": {
    "scrolled": true
   },
   "outputs": [],
   "source": []
  },
  {
   "cell_type": "code",
   "execution_count": 66,
   "metadata": {},
   "outputs": [
    {
     "name": "stdout",
     "output_type": "stream",
     "text": [
      "cut_approx_ratios: [0.5416967314063463, 0.8229297003698184, 0.998635495169607]\n",
      "ham_approx_ratios: [0.0, 0.6136394571796567, 0.9970227032537209]\n",
      "best_mixers: ['standard_x', 'X2']\n",
      "Probabilities: [1.39134673e-09 1.01887850e-03 6.42231725e-04 4.98338888e-01\n",
      " 4.98338888e-01 6.42231725e-04 1.01887850e-03 1.39134671e-09]\n",
      "best_mixer_parameters: [0.7873136409620807, -0.9175011663034471]\n",
      "best_ham_parameters: [1.9379397478028648, 0.002023738374564865]\n"
     ]
    }
   ],
   "source": [
    "for key in adapt_qaoa_solution:\n",
    "    if key == 'all_mixers':\n",
    "        continue\n",
    "    print(key+':', adapt_qaoa_solution[key])"
   ]
  },
  {
   "attachments": {},
   "cell_type": "markdown",
   "metadata": {},
   "source": [
    "Finally, we solve the problem using the Dynamic ADAPT-QAOA which determines at each layer whether it is beneficial to the classical optimisation to include a Hamiltonian unitary or not. To do this, it is useful to generate a dictionary containing splits of each mixer operator into two operators, one which commutes with the Hamiltonian, and one which anti-commutes with it. This is possible for all mixers which are single Pauli strings."
   ]
  },
  {
   "cell_type": "code",
   "execution_count": 67,
   "metadata": {},
   "outputs": [],
   "source": [
    "# pauli_mixers_split_ops_dict = build_operators.split_all_mixers(graph[0])\n",
    "# filtered_pauli_mixers_split_ops_dict = {key: value for key, value in pauli_mixers_split_ops_dict.items() if 'Y' not in key}\n"
   ]
  },
  {
   "cell_type": "code",
   "execution_count": 68,
   "metadata": {},
   "outputs": [],
   "source": [
    "# dynamic_adapt_qaoa_solution = get_data.run_dynamic_adapt_qaoa(graph[0], filtered_pauli_ops_dict, filtered_gradient_ops_dict, filtered_pauli_mixers_split_ops_dict, max_depth=circuit_depth)"
   ]
  },
  {
   "cell_type": "code",
   "execution_count": 69,
   "metadata": {},
   "outputs": [],
   "source": [
    "# for key in dynamic_adapt_qaoa_solution:\n",
    "#     if key == 'all_mixers':\n",
    "#         continue\n",
    "#     print(key+':', dynamic_adapt_qaoa_solution[key])"
   ]
  },
  {
   "attachments": {},
   "cell_type": "markdown",
   "metadata": {},
   "source": [
    "Overall, we see that the three algorithm implementations converge to a good approximation ratio, with the adaptive problem-tailored ones achieving better results. The dynamic algorithm converges quicker compared to the non-dynamic version."
   ]
  },
  {
   "cell_type": "code",
   "execution_count": 70,
   "metadata": {},
   "outputs": [],
   "source": [
    "import re\n",
    "import qiskit\n",
    "import json\n",
    "import time\n",
    "import numpy as np\n",
    "\n",
    "from qiskit import transpile\n",
    "from qiskit_aer import AerSimulator\n",
    "from qiskit.converters import circuit_to_dag\n",
    "\n",
    "from fast_generator import fc_tree_commute_recur_lookahead_fast\n",
    "from absorption import extract_CNOT_network, update_probabilities\n",
    "\n",
    "# from benchmarks.UCCSD_entanglers import generate_UCCSD_entanglers\n",
    "from utilities import generate_pauli_strings\n",
    "from circuit_generator import generate_opt_circuit, construct_qcc_circuit"
   ]
  },
  {
   "cell_type": "code",
   "execution_count": 71,
   "metadata": {},
   "outputs": [
    {
     "name": "stdout",
     "output_type": "stream",
     "text": [
      "Pauli Strings: ['IZZ', 'ZIZ', 'ZZI', 'standard_x', 'IZZ', 'ZIZ', 'ZZI', 'X2']\n",
      "Coefficients: [-0.2603898093489094, -1.64227552243978, -1.4801491924777685, 1.5746272819241613, -0.0002719180769796676, -0.0017149841733407846, -0.001545680005941632, -1.8350023326068943]\n"
     ]
    }
   ],
   "source": [
    "#QAOA for MAXCUT \n",
    "\n",
    "cost_hamiltonian = build_operators.cut_hamiltonian(graph[0])[1]\n",
    "mixer_hamiltonians = adapt_qaoa_solution['best_mixers']\n",
    "weights = graph[1]\n",
    "cost_parameters = adapt_qaoa_solution['best_ham_parameters']\n",
    "mixer_parameters = adapt_qaoa_solution['best_mixer_parameters']\n",
    "\n",
    "\n",
    "# test_paulis = #alternate between cost_hamiltonian and one item from the mixer_hamiltonian list\n",
    "# test_params = \n",
    "\n",
    "test_paulis = []\n",
    "test_params = []\n",
    "\n",
    "# Alternate between cost_hamiltonian and mixer_hamiltonian elements\n",
    "for i in range(len(mixer_hamiltonians)):\n",
    "    # Add cost Hamiltonian terms\n",
    "    test_paulis.extend(cost_hamiltonian)\n",
    "    test_params.extend([-1 * cost_parameters[i] * w for w in weights])  # Multiply cost parameters by -1\n",
    "    \n",
    "    # Add corresponding mixer Hamiltonian term\n",
    "    test_paulis.append(mixer_hamiltonians[i])\n",
    "    test_params.append(mixer_parameters[i] * 2)  # Multiply mixer parameters by 2\n",
    "\n",
    "# Print results to verify\n",
    "print(\"Pauli Strings:\", test_paulis)\n",
    "print(\"Coefficients:\", test_params)\n"
   ]
  },
  {
   "cell_type": "code",
   "execution_count": 72,
   "metadata": {},
   "outputs": [
    {
     "name": "stdout",
     "output_type": "stream",
     "text": [
      "Modified Pauli strings: ['IZZ', 'ZIZ', 'ZZI', 'XII', 'IXI', 'IIX', 'IZZ', 'ZIZ', 'ZZI', 'IXI']\n",
      "Updated coefficients: [-0.2603898093489094, -1.64227552243978, -1.4801491924777685, 1.5746272819241613, 1.5746272819241613, 1.5746272819241613, -0.0002719180769796676, -0.0017149841733407846, -0.001545680005941632, -1.8350023326068943]\n"
     ]
    }
   ],
   "source": [
    "import re\n",
    "\n",
    "def modify_mixer_and_pauli_list(pauli_strings, coefficients, num_vertices):\n",
    "    \"\"\"\n",
    "    Modify the Pauli list to replace 'standard_x' with the correct set of mixers based on\n",
    "    the number of vertices while keeping the same coefficient as the original 'standard_x'.\n",
    "    Also expands Pauli strings containing 'X' followed by digits and updates coefficients.\n",
    "\n",
    "    Returns:\n",
    "        modified_pauli_strings, expanded_coeffs\n",
    "    \"\"\"\n",
    "    modified_pauli_strings = []\n",
    "    expanded_coeffs = []\n",
    "    \n",
    "    for i, pauli in enumerate(pauli_strings):\n",
    "        if pauli == 'standard_x':\n",
    "            # Retrieve the coefficient for 'standard_x' from the coefficients list\n",
    "            param_value = coefficients[i]  # Use the coefficient of 'standard_x'\n",
    "            \n",
    "            # Generate the correct set of mixers based on the number of vertices\n",
    "            mixers = []\n",
    "            for i in range(num_vertices):\n",
    "                # Create a string with X in the i-th position\n",
    "                mixer = ['I'] * num_vertices\n",
    "                mixer[i] = 'X'\n",
    "                mixers.append(''.join(mixer))\n",
    "            \n",
    "            # Replace 'standard_x' with the generated mixers and the same coefficient\n",
    "            for generated_mixer in mixers:\n",
    "                modified_pauli_strings.append(generated_mixer)\n",
    "                expanded_coeffs.append(param_value)\n",
    "        \n",
    "        else:\n",
    "            # If the pauli string is not 'standard_x', we check for digit patterns like X1, X2, etc.\n",
    "            matches = re.findall(r'X\\d+', pauli)\n",
    "            if matches:\n",
    "                expanded_string = list('I' * num_vertices)\n",
    "                for match in matches:\n",
    "                    # Extract the vertex number and place 'X' at the correct position\n",
    "                    vertex_index = int(match[1:]) - 1  # Convert to 0-indexed\n",
    "                    if 0 <= vertex_index < num_vertices:\n",
    "                        expanded_string[vertex_index] = 'X'\n",
    "                modified_pauli_strings.append(''.join(expanded_string))\n",
    "                expanded_coeffs.append(coefficients[i])\n",
    "            else:\n",
    "                # If no specific pattern is found, keep the original Pauli string\n",
    "                modified_pauli_strings.append(pauli)\n",
    "                expanded_coeffs.append(coefficients[i])\n",
    "\n",
    "    return modified_pauli_strings, expanded_coeffs\n",
    "\n",
    "\n",
    "\n",
    "# Modify the mixer list and expand Pauli strings\n",
    "modified_pauli_strings, expanded_coeffs = modify_mixer_and_pauli_list(test_paulis, test_params, no_vertices)\n",
    "\n",
    "# Print the modified Pauli strings and coefficients\n",
    "print(\"Modified Pauli strings:\", modified_pauli_strings)\n",
    "print(\"Updated coefficients:\", expanded_coeffs)\n"
   ]
  },
  {
   "cell_type": "code",
   "execution_count": 73,
   "metadata": {},
   "outputs": [
    {
     "data": {
      "text/plain": [
       "12"
      ]
     },
     "execution_count": 73,
     "metadata": {},
     "output_type": "execute_result"
    }
   ],
   "source": [
    "\n",
    "start_time = time.time()\n",
    "opt_qc, append_clifford, sorted_entanglers = fc_tree_commute_recur_lookahead_fast(entanglers=modified_pauli_strings, params=expanded_coeffs, barrier=False)\n",
    "opt_qiskit = transpile(opt_qc, optimization_level=3, basis_gates=[\"cx\", \"sx\", \"x\", \"rz\"])\n",
    "\n",
    "#need to add a layer of hadamard gates:\n",
    "for i in range(0, len(test_paulis[0])):\n",
    "    opt_qc.h(i)\n",
    "opt_qc.measure_active()\n",
    "end_time = time.time()\n",
    "combined_time = end_time - start_time\n",
    "\n",
    "\n",
    "origin_qc = construct_qcc_circuit(entanglers = modified_pauli_strings, params = expanded_coeffs, barrier=False)\n",
    "#generate the qiskit optimized circuit\n",
    "origin_qiskit = transpile(origin_qc, optimization_level = 3, basis_gates = [\"cx\", \"sx\", \"x\", \"rz\"])\n",
    "origin_qiskit.measure_active() \n",
    "origin_qiskit.count_ops()['cx']"
   ]
  },
  {
   "cell_type": "code",
   "execution_count": 74,
   "metadata": {},
   "outputs": [
    {
     "data": {
      "image/png": "[encoded data removed]",
      "text/plain": [
       "<Figure size 2300.69x785.944 with 1 Axes>"
      ]
     },
     "execution_count": 74,
     "metadata": {},
     "output_type": "execute_result"
    }
   ],
   "source": [
    "origin_qiskit.draw('mpl')"
   ]
  },
  {
   "cell_type": "code",
   "execution_count": 75,
   "metadata": {},
   "outputs": [
    {
     "data": {
      "image/png": "[encoded data removed]",
      "text/plain": [
       "<Figure size 956.385x284.278 with 1 Axes>"
      ]
     },
     "execution_count": 75,
     "metadata": {},
     "output_type": "execute_result"
    }
   ],
   "source": [
    "append_clifford.draw('mpl')"
   ]
  },
  {
   "cell_type": "code",
   "execution_count": 76,
   "metadata": {},
   "outputs": [
    {
     "data": {
      "text/plain": [
       "OrderedDict([('rz', 10), ('h', 10), ('cx', 7), ('measure', 3), ('barrier', 1)])"
      ]
     },
     "execution_count": 76,
     "metadata": {},
     "output_type": "execute_result"
    }
   ],
   "source": [
    "opt_qc.count_ops()"
   ]
  },
  {
   "cell_type": "code",
   "execution_count": 77,
   "metadata": {},
   "outputs": [
    {
     "data": {
      "image/png": "[encoded data removed]",
      "text/plain": [
       "<Figure size 2217.07x367.889 with 1 Axes>"
      ]
     },
     "execution_count": 77,
     "metadata": {},
     "output_type": "execute_result"
    }
   ],
   "source": [
    "opt_qc.draw('mpl')"
   ]
  },
  {
   "cell_type": "code",
   "execution_count": 78,
   "metadata": {},
   "outputs": [],
   "source": [
    "cnot_network = extract_CNOT_network(append_clifford)"
   ]
  },
  {
   "cell_type": "code",
   "execution_count": 79,
   "metadata": {},
   "outputs": [],
   "source": [
    "#Run the original circuit on a noiseless simulator:\n",
    "simulator = AerSimulator()\n",
    "origin_result = simulator.run(origin_qiskit, shots = 10000).result()"
   ]
  },
  {
   "cell_type": "code",
   "execution_count": 80,
   "metadata": {},
   "outputs": [],
   "source": [
    "def get_top_k_values(input_dict, k):\n",
    "    # Sort the dictionary by values in descending order and return the top k items\n",
    "    sorted_items = sorted(input_dict.items(), key=lambda item: item[1], reverse=True)\n",
    "    return sorted_items[:k]"
   ]
  },
  {
   "cell_type": "code",
   "execution_count": 81,
   "metadata": {},
   "outputs": [],
   "source": [
    "origin_probs= origin_result.get_counts()"
   ]
  },
  {
   "cell_type": "code",
   "execution_count": 82,
   "metadata": {},
   "outputs": [
    {
     "name": "stdout",
     "output_type": "stream",
     "text": [
      "[('000', 2486), ('001', 2458), ('100', 2446), ('101', 2427), ('111', 50), ('010', 49), ('011', 43), ('110', 41)]\n"
     ]
    }
   ],
   "source": [
    "top_k_states_origin = get_top_k_values(origin_probs, 20)\n",
    "print(top_k_states_origin)"
   ]
  },
  {
   "cell_type": "code",
   "execution_count": 83,
   "metadata": {},
   "outputs": [],
   "source": [
    "#Run the optimized circuit on a noiseless simulator:\n",
    "\n",
    "opt_result = simulator.run(opt_qc, shots = 10000).result()"
   ]
  },
  {
   "cell_type": "code",
   "execution_count": 84,
   "metadata": {},
   "outputs": [],
   "source": [
    "dag = circuit_to_dag(cnot_network)\n",
    "updated_states = {}\n",
    "\n",
    "updated_probs = update_probabilities(opt_result.get_counts(), dag)\n"
   ]
  },
  {
   "cell_type": "code",
   "execution_count": 85,
   "metadata": {},
   "outputs": [],
   "source": [
    "from qiskit.quantum_info.analysis import hellinger_fidelity"
   ]
  },
  {
   "cell_type": "code",
   "execution_count": 86,
   "metadata": {},
   "outputs": [
    {
     "data": {
      "text/plain": [
       "0.9997781376731766"
      ]
     },
     "execution_count": 86,
     "metadata": {},
     "output_type": "execute_result"
    }
   ],
   "source": [
    "hellinger_fidelity(origin_probs, updated_probs)"
   ]
  },
  {
   "cell_type": "code",
   "execution_count": 87,
   "metadata": {},
   "outputs": [
    {
     "name": "stdout",
     "output_type": "stream",
     "text": [
      "[('000', 2486), ('001', 2458), ('100', 2446), ('101', 2427), ('111', 50), ('010', 49), ('011', 43), ('110', 41)]\n"
     ]
    }
   ],
   "source": [
    "top_k_states_origin = get_top_k_values(origin_probs, 20)\n",
    "print(top_k_states_origin)"
   ]
  },
  {
   "cell_type": "code",
   "execution_count": 88,
   "metadata": {},
   "outputs": [
    {
     "name": "stdout",
     "output_type": "stream",
     "text": [
      "[('101', 2509), ('100', 2457), ('001', 2457), ('000', 2397), ('010', 51), ('110', 48), ('111', 43), ('011', 38)]\n"
     ]
    }
   ],
   "source": [
    "top_k_states_updated = get_top_k_values(updated_probs, 20)\n",
    "print(top_k_states_updated)"
   ]
  },
  {
   "cell_type": "code",
   "execution_count": null,
   "metadata": {},
   "outputs": [],
   "source": []
  },
  {
   "cell_type": "code",
   "execution_count": null,
   "metadata": {},
   "outputs": [],
   "source": []
  },
  {
   "cell_type": "code",
   "execution_count": null,
   "metadata": {},
   "outputs": [],
   "source": []
  },
  {
   "cell_type": "code",
   "execution_count": null,
   "metadata": {},
   "outputs": [],
   "source": []
  },
  {
   "cell_type": "code",
   "execution_count": null,
   "metadata": {},
   "outputs": [],
   "source": []
  },
  {
   "cell_type": "code",
   "execution_count": null,
   "metadata": {},
   "outputs": [],
   "source": []
  },
  {
   "cell_type": "code",
   "execution_count": null,
   "metadata": {},
   "outputs": [],
   "source": []
  },
  {
   "cell_type": "code",
   "execution_count": 31,
   "metadata": {},
   "outputs": [],
   "source": [
    "# import numpy as np\n",
    "# from scipy.sparse import csr_matrix\n",
    "# from qiskit.quantum_info import SparsePauliOp\n",
    "\n",
    "# # Assuming 'sparse_matrix' is your sparse matrix of a pure state vector\n",
    "# # Convert the sparse matrix to a dense array (assuming it's a column vector)\n",
    "# state_vector = adapt_qaoa_solution['all_den_mats'].toarray().flatten()  # Flatten if it's a column vector\n",
    "\n",
    "# # Create the density matrix\n",
    "# density_matrix = np.outer(state_vector, state_vector.conj())\n",
    "\n",
    "# # Ensure it is a valid density matrix\n",
    "# # Check Hermitian property\n",
    "# # print(np.allclose(density_matrix, density_matrix.conj().T))\n",
    "# # Check trace\n",
    "# # print(np.isclose(np.trace(density_matrix), 1.0))\n",
    "\n",
    "# test_paulis = SparsePauliOp.from_operator(density_matrix).paulis[1:]\n",
    "# test_params = SparsePauliOp.from_operator(density_matrix).coeffs.real[1:]"
   ]
  },
  {
   "cell_type": "code",
   "execution_count": 32,
   "metadata": {},
   "outputs": [],
   "source": [
    "# state_vector = dynamic_adapt_qaoa_solution['all_den_mats'].toarray().flatten()  # Flatten if it's a column vector\n",
    "\n",
    "# # Create the density matrix\n",
    "# density_matrix = np.outer(state_vector, state_vector.conj())\n",
    "# print(density_matrix.shape)\n",
    "# test_paulis = SparsePauliOp.from_operator(density_matrix).paulis[1:]\n",
    "# test_params = SparsePauliOp.from_operator(density_matrix).coeffs.real[1:]"
   ]
  }
 ],
 "metadata": {
  "kernelspec": {
   "display_name": "Python 3 (ipykernel)",
   "language": "python",
   "name": "python3"
  },
  "language_info": {
   "codemirror_mode": {
    "name": "ipython",
    "version": 3
   },
   "file_extension": ".py",
   "mimetype": "text/x-python",
   "name": "python",
   "nbconvert_exporter": "python",
   "pygments_lexer": "ipython3",
   "version": "3.12.4"
  }
 },
 "nbformat": 4,
 "nbformat_minor": 4
}
