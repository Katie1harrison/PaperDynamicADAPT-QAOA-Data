{
 "cells": [
  {
   "attachments": {},
   "cell_type": "markdown",
   "metadata": {},
   "source": [
    "## Quantum Approximate Optimisation Algorithm in Python\n",
    "\n",
    "This notebook demostrates how the package in this repository can be used to solve quadratic unconstrained binary optimisation (QUBO) problems, expressed in the context of the max-cut problem from graph theory, using a quantum algorithm.\n",
    "\n",
    "We start by first defining the graph using the $\\texttt{networkx}$ package in Python. In this example we will be considering a quite simple complete graph with 4 vertices, where the weights of each edge are\n",
    "uniformly distributed between 0 and 1."
   ]
  },
  {
   "cell_type": "code",
   "execution_count": 1,
   "metadata": {},
   "outputs": [],
   "source": [
    "import re\n",
    "import qiskit\n",
    "import json\n",
    "import time\n",
    "import numpy as np\n",
    "\n",
    "from qiskit import transpile\n",
    "from qiskit_aer import AerSimulator\n",
    "from qiskit.converters import circuit_to_dag\n",
    "\n",
    "from src_code import build_operators\n",
    "from src_code import graph_generator, get_data, build_operators"
   ]
  },
  {
   "cell_type": "code",
   "execution_count": null,
   "metadata": {},
   "outputs": [],
   "source": []
  },
  {
   "cell_type": "code",
   "execution_count": 2,
   "metadata": {},
   "outputs": [],
   "source": [
    "# Draw Graph\n",
    "# pos=nx.circular_layout(graph)\n",
    "# nx.draw_networkx(graph, pos)\n",
    "# labels = nx.get_edge_attributes(graph,'weight')\n",
    "# for edge in labels:\n",
    "#     labels[edge] = round(labels[edge], 3)\n",
    "# tmp = nx.draw_networkx_edge_labels(graph, pos, edge_labels=labels)\n"
   ]
  },
  {
   "attachments": {},
   "cell_type": "markdown",
   "metadata": {},
   "source": [
    "Once we have generated the graph, we can define the Ising Hamiltonian whose maximum energy eigenstate corresponds to the solution to the problem. This is given by $$\\hat{H}_C=-\\frac{1}{4}\\sum_{i,j=0}^{n-1}W_{ij}\\hat{Z}_i\\hat{Z}_j.$$ It should be noted that the eigenvalues of this Hamiltonian are not exactly equal to the values of their corresponding cuts. They differ by a constant term $A = \\frac{1}{4}\\sum_{i,j=0}^{n-1}W_{ij}$, which is removed as it doesn't influence to the operation of the algorithm. It is later added back in to generate correct results. Additionally, we can define all the commutators $$\\left[\\hat{H}_C,-i\\hat{A}\\right]\\quad\\forall \\quad\\hat{A}\\in\\mathcal{P}.$$ These are used to find the gradients in parameter space at each iteration which are used to determine which mixer operator from the pool $\\mathcal{P}$ to be added to the ADAPT-QAOA circuit in the current layer."
   ]
  },
  {
   "cell_type": "code",
   "execution_count": 3,
   "metadata": {},
   "outputs": [],
   "source": [
    "no_vertices = 3\n",
    "graph = graph_generator.generate_graph(no_vertices)\n",
    "\n",
    "weights = build_operators.cut_hamiltonian(graph[0])[1]\n",
    "\n",
    "gradient_ops_dict = build_operators.build_all_mixers(graph[0])\n",
    "\n",
    "filtered_gradient_ops_dict = {key: value for key, value in gradient_ops_dict.items() if 'Y' not in key}"
   ]
  },
  {
   "cell_type": "code",
   "execution_count": null,
   "metadata": {},
   "outputs": [],
   "source": []
  },
  {
   "attachments": {},
   "cell_type": "markdown",
   "metadata": {},
   "source": [
    "In order to make the generation of the unitaries in the ansatz quicker between iterations of both the overall algorithm and the classical optimsation scheme, it is useful to pre-compute all the Pauli strings appearing in the exponents of the unitaries. This then allows one to use the identity $$e^{i\\alpha\\hat{P}}=\\cos(\\alpha)\\hat{I}+i\\sin(\\alpha)\\hat{P}$$ for single Pauli strings, to find the unitaries using simple floating point arithmetic, rather than matrix exponentiation during each iteration."
   ]
  },
  {
   "cell_type": "code",
   "execution_count": 4,
   "metadata": {},
   "outputs": [],
   "source": [
    "pauli_ops_dict = build_operators.build_all_paulis(no_vertices)\n",
    "filtered_pauli_ops_dict = {key: value for key, value in pauli_ops_dict.items() if 'Y' not in key}\n"
   ]
  },
  {
   "attachments": {},
   "cell_type": "markdown",
   "metadata": {},
   "source": [
    "All this pre-computation allows for significant speed-up in the execution of the algorithms. We now move on to actually running QAOA on the graph. We first perform the standard non-adaptive algorithm. To do so we require to pick a specific depth for the circuit, i.e., the number of layers it will contain. We set this to 5."
   ]
  },
  {
   "cell_type": "code",
   "execution_count": 5,
   "metadata": {},
   "outputs": [],
   "source": [
    "circuit_depth = 2\n",
    "qaoa_solution = get_data.run_standard_qaoa(graph[0], depth=circuit_depth, pauli_ops_dict=pauli_ops_dict)"
   ]
  },
  {
   "cell_type": "code",
   "execution_count": 6,
   "metadata": {},
   "outputs": [
    {
     "name": "stdout",
     "output_type": "stream",
     "text": [
      "cut_approx_ratio: 0.9975880629031183\n",
      "ham_approx_ratio: 0.9947372465741234\n",
      "optimised_Hamiltonian_unitary_parameters: [-1.6408562359564474, 3.9669387104283538]\n",
      "optimised_mixer_unitary_parameters: [1.1498712384775749, 0.401598125972599]\n"
     ]
    }
   ],
   "source": [
    "for key in qaoa_solution:\n",
    "    print(key+':', qaoa_solution[key])"
   ]
  },
  {
   "attachments": {},
   "cell_type": "markdown",
   "metadata": {},
   "source": [
    "We now move on the ADAPT-QAOA. We use the same maximum depth of 5 as above."
   ]
  },
  {
   "cell_type": "code",
   "execution_count": 7,
   "metadata": {},
   "outputs": [
    {
     "name": "stdout",
     "output_type": "stream",
     "text": [
      "Initial Cut Approximation Ratio: 0.5416967314063463 \n",
      "\n",
      "Finding Best Mixer for layer 1...\n",
      "\tBest mixer is standard_x with gradient magnitude 0.026390259272443036\n",
      "\n",
      "Optimising layer 1...\n",
      "\tInitial Parameter Guesses: [0.0, 0.01]\n",
      "\tOptimisation completed wih following outcome:\n",
      "\t\tNumber of iterations performed: 14\n",
      "\t\tNumber of expectation evaluations performed: 57\n",
      "\t\tSuccess: True\n",
      "\t\tOptimiser message: Optimization terminated successfully.\n",
      "\tOptimised mixer unitary parameters: 0.358\n",
      "\tOptimised Hamiltonian unitary parameters: 1.16\n",
      "\n",
      "Current Cut Approximation Ratio: 0.8229297003698184\n",
      "State Probabilities:\n",
      "State 000: Probability 0.0044\n",
      "State 001: Probability 0.1116\n",
      "State 010: Probability 0.0916\n",
      "State 011: Probability 0.2924\n",
      "State 100: Probability 0.2924\n",
      "State 101: Probability 0.0916\n",
      "State 110: Probability 0.1116\n",
      "State 111: Probability 0.0044\n",
      "\n",
      "\n",
      "Finding Best Mixer for layer 2...\n",
      "\tBest mixer is X2 with gradient magnitude 0.21425298911048063\n",
      "\n",
      "Optimising layer 2...\n",
      "\tInitial Parameter Guesses: [0.3583260858193264, 0.0, 1.1613738014216684, 0.01]\n",
      "\tOptimisation completed wih following outcome:\n",
      "\t\tNumber of iterations performed: 11\n",
      "\t\tNumber of expectation evaluations performed: 70\n",
      "\t\tSuccess: True\n",
      "\t\tOptimiser message: Optimization terminated successfully.\n",
      "\tOptimised mixer unitary parameters: 0.787, -0.918\n",
      "\tOptimised Hamiltonian unitary parameters: 1.94, 0.00202\n",
      "\n",
      "Current Cut Approximation Ratio: 0.998635495169607\n",
      "State Probabilities:\n",
      "State 000: Probability 0.0000\n",
      "State 001: Probability 0.0010\n",
      "State 010: Probability 0.0006\n",
      "State 011: Probability 0.4983\n",
      "State 100: Probability 0.4983\n",
      "State 101: Probability 0.0006\n",
      "State 110: Probability 0.0010\n",
      "State 111: Probability 0.0000\n",
      "\n",
      "\n"
     ]
    }
   ],
   "source": [
    "adapt_qaoa_solution = get_data.run_adapt_qaoa(graph[0], filtered_pauli_ops_dict, filtered_gradient_ops_dict, circuit_depth)"
   ]
  },
  {
   "cell_type": "code",
   "execution_count": null,
   "metadata": {
    "scrolled": true
   },
   "outputs": [],
   "source": []
  },
  {
   "cell_type": "code",
   "execution_count": null,
   "metadata": {},
   "outputs": [],
   "source": []
  },
  {
   "cell_type": "code",
   "execution_count": 8,
   "metadata": {},
   "outputs": [
    {
     "name": "stdout",
     "output_type": "stream",
     "text": [
      "cut_approx_ratios: [0.5416967314063463, 0.8229297003698184, 0.998635495169607]\n",
      "ham_approx_ratios: [0.0, 0.6136394571796567, 0.9970227032537209]\n",
      "best_mixers: ['standard_x', 'X2']\n",
      "Probabilities: [1.39134673e-09 1.01887850e-03 6.42231725e-04 4.98338888e-01\n",
      " 4.98338888e-01 6.42231725e-04 1.01887850e-03 1.39134671e-09]\n",
      "best_mixer_parameters: [0.7873136409620807, -0.9175011663034471]\n",
      "best_ham_parameters: [1.9379397478028648, 0.002023738374564865]\n"
     ]
    }
   ],
   "source": [
    "for key in adapt_qaoa_solution:\n",
    "    if key == 'all_mixers':\n",
    "        continue\n",
    "    print(key+':', adapt_qaoa_solution[key])"
   ]
  },
  {
   "attachments": {},
   "cell_type": "markdown",
   "metadata": {},
   "source": [
    "Finally, we solve the problem using the Dynamic ADAPT-QAOA which determines at each layer whether it is beneficial to the classical optimisation to include a Hamiltonian unitary or not. To do this, it is useful to generate a dictionary containing splits of each mixer operator into two operators, one which commutes with the Hamiltonian, and one which anti-commutes with it. This is possible for all mixers which are single Pauli strings."
   ]
  },
  {
   "cell_type": "code",
   "execution_count": 9,
   "metadata": {},
   "outputs": [],
   "source": [
    "pauli_mixers_split_ops_dict = build_operators.split_all_mixers(graph[0])\n",
    "filtered_pauli_mixers_split_ops_dict = {key: value for key, value in pauli_mixers_split_ops_dict.items() if 'Y' not in key}\n"
   ]
  },
  {
   "cell_type": "code",
   "execution_count": 10,
   "metadata": {},
   "outputs": [
    {
     "name": "stdout",
     "output_type": "stream",
     "text": [
      "Initial Cut Approximation Ratio: 0.5416967314063463 \n",
      "\n",
      "Finding Best Mixer for layer 1...\n",
      "this is the mixers and grad [('standard_x', 0.0), ('X2Z1', 0.0), ('X2Z0', 0.0), ('X2', 0.0), ('X1Z2', 0.0), ('X1Z0', 0.0), ('X1X2', 0.0), ('X1', 0.0), ('X0Z2', 0.0), ('X0Z1', 0.0), ('X0X2', 0.0), ('X0X1', 0.0), ('X0', 0.0)]\n",
      "this is the best mixer standard_x\n",
      "\tThe best mixer for layer 1 with no Hamiltonian unitary is standard_x with a gradient of 0.0\n",
      "\n",
      "Optimising layer 1...\n",
      "\tInitial Parameter Guesses: [0.0]\n",
      "\tOptimisation completed wih following outcome:\n",
      "\t\tNumber of iterations performed: 0\n",
      "\t\tNumber of expectation evaluations performed: 2\n",
      "\t\tSuccess: True\n",
      "\t\tOptimiser message: Optimization terminated successfully.\n",
      "\tOptimised mixer unitary parameters: 0.0\n",
      "\tOptimised Hamiltonian unitary parameters\n",
      "\n",
      "Current Cut Approximation Ratio: 0.5416967314063463\n",
      "State Probabilities:\n",
      "State 000: Probability 0.1250\n",
      "State 001: Probability 0.1250\n",
      "State 010: Probability 0.1250\n",
      "State 011: Probability 0.1250\n",
      "State 100: Probability 0.1250\n",
      "State 101: Probability 0.1250\n",
      "State 110: Probability 0.1250\n",
      "State 111: Probability 0.1250\n",
      "\n",
      "\n",
      "Finding Best Mixer for layer 2...\n",
      "this is the mixers and grad [('standard_x', 0.0), ('X2Z1', 0.0), ('X2Z0', 0.0), ('X2', 0.0), ('X1Z2', 0.0), ('X1Z0', 0.0), ('X1X2', 0.0), ('X1', 0.0), ('X0Z2', 0.0), ('X0Z1', 0.0), ('X0X2', 0.0), ('X0X1', 0.0), ('X0', 0.0)]\n",
      "this is the best mixer standard_x\n",
      "this is the best mixer222222 X2Z1\n",
      "\tThe best mixer for layer 2 with no Hamiltonian unitary is X2Z1 with a gradient of 0.0\n",
      "\t<iMH_a> = 0\n",
      "\t<MH_a^2> = 0\n",
      "\t<iMH_a^3> = 0\n",
      "\tIt is unclear whether a maximum occurs when using no Hamiltonian unitary so we will add it to the layer!\n",
      "\tThe new best mixer for layer 2 with a Hamiltonian unitary is standard_x with a gradient of 0.2631827878995836\n",
      "\n",
      "Optimising layer 2...\n",
      "\tInitial Parameter Guesses: [0.0, 0.0, 0.1]\n",
      "\tOptimisation completed wih following outcome:\n",
      "\t\tNumber of iterations performed: 8\n",
      "\t\tNumber of expectation evaluations performed: 48\n",
      "\t\tSuccess: True\n",
      "\t\tOptimiser message: Optimization terminated successfully.\n",
      "\tOptimised mixer unitary parameters: 1.95e-08, 0.358\n",
      "\tOptimised Hamiltonian unitary parameters: 1.16\n",
      "\n",
      "Current Cut Approximation Ratio: 0.8229297012381358\n",
      "State Probabilities:\n",
      "State 000: Probability 0.0044\n",
      "State 001: Probability 0.1116\n",
      "State 010: Probability 0.0916\n",
      "State 011: Probability 0.2924\n",
      "State 100: Probability 0.2924\n",
      "State 101: Probability 0.0916\n",
      "State 110: Probability 0.1116\n",
      "State 111: Probability 0.0044\n",
      "\n",
      "\n"
     ]
    }
   ],
   "source": [
    "dynamic_adapt_qaoa_solution = get_data.run_dynamic_adapt_qaoa(graph[0], filtered_pauli_ops_dict, filtered_gradient_ops_dict, filtered_pauli_mixers_split_ops_dict, max_depth=circuit_depth)"
   ]
  },
  {
   "cell_type": "code",
   "execution_count": null,
   "metadata": {},
   "outputs": [],
   "source": []
  },
  {
   "cell_type": "code",
   "execution_count": 11,
   "metadata": {},
   "outputs": [
    {
     "name": "stdout",
     "output_type": "stream",
     "text": [
      "cut_approx_ratios: [0.5416967314063463, 0.5416967314063463, 0.8229297012381358]\n",
      "ham_approx_ratios: [0.0, 0.0, 0.6136394590742917]\n",
      "best_mixers: ['standard_x', 'standard_x']\n",
      "best_mixer_parameters: [1.9542618167948378e-08, 0.3583434912890206]\n",
      "best_ham_parameters: [1.1613737649148757]\n",
      "ham_unitary_layers: [2]\n"
     ]
    }
   ],
   "source": [
    "for key in dynamic_adapt_qaoa_solution:\n",
    "    if key == 'all_mixers':\n",
    "        continue\n",
    "    print(key+':', dynamic_adapt_qaoa_solution[key])"
   ]
  },
  {
   "attachments": {},
   "cell_type": "markdown",
   "metadata": {},
   "source": [
    "Overall, we see that the three algorithm implementations converge to a good approximation ratio, with the adaptive problem-tailored ones achieving better results. The dynamic algorithm converges quicker compared to the non-dynamic version."
   ]
  },
  {
   "cell_type": "code",
   "execution_count": null,
   "metadata": {},
   "outputs": [],
   "source": []
  },
  {
   "cell_type": "code",
   "execution_count": 12,
   "metadata": {},
   "outputs": [
    {
     "ename": "ModuleNotFoundError",
     "evalue": "No module named 'vqe_utils'",
     "output_type": "error",
     "traceback": [
      "\u001b[0;31m---------------------------------------------------------------------------\u001b[0m",
      "\u001b[0;31mModuleNotFoundError\u001b[0m                       Traceback (most recent call last)",
      "Cell \u001b[0;32mIn[12], line 11\u001b[0m\n\u001b[1;32m      8\u001b[0m \u001b[38;5;28;01mfrom\u001b[39;00m \u001b[38;5;21;01mqiskit_aer\u001b[39;00m \u001b[38;5;28;01mimport\u001b[39;00m AerSimulator\n\u001b[1;32m      9\u001b[0m \u001b[38;5;28;01mfrom\u001b[39;00m \u001b[38;5;21;01mqiskit\u001b[39;00m\u001b[38;5;21;01m.\u001b[39;00m\u001b[38;5;21;01mconverters\u001b[39;00m \u001b[38;5;28;01mimport\u001b[39;00m circuit_to_dag\n\u001b[0;32m---> 11\u001b[0m \u001b[38;5;28;01mfrom\u001b[39;00m \u001b[38;5;21;01mfast_generator\u001b[39;00m \u001b[38;5;28;01mimport\u001b[39;00m fc_tree_commute_recur_lookahead_fast\n\u001b[1;32m     12\u001b[0m \u001b[38;5;28;01mfrom\u001b[39;00m \u001b[38;5;21;01mabsorption\u001b[39;00m \u001b[38;5;28;01mimport\u001b[39;00m extract_CNOT_network, update_probabilities\n\u001b[1;32m     14\u001b[0m \u001b[38;5;66;03m# from benchmarks.UCCSD_entanglers import generate_UCCSD_entanglers\u001b[39;00m\n\u001b[1;32m     15\u001b[0m \u001b[38;5;66;03m# from circuit_generator import construct_qcc_circuit\u001b[39;00m\n",
      "File \u001b[0;32m~/Documents/GitHub/PaperDynamicADAPT-QAOA-Data/fast_generator.py:17\u001b[0m\n\u001b[1;32m     13\u001b[0m \u001b[38;5;28;01mfrom\u001b[39;00m \u001b[38;5;21;01mqiskit\u001b[39;00m\u001b[38;5;21;01m.\u001b[39;00m\u001b[38;5;21;01mquantum_info\u001b[39;00m \u001b[38;5;28;01mimport\u001b[39;00m Clifford\n\u001b[1;32m     15\u001b[0m \u001b[38;5;28;01mfrom\u001b[39;00m \u001b[38;5;21;01mutilities\u001b[39;00m \u001b[38;5;28;01mimport\u001b[39;00m pauli_strings_commute\n\u001b[0;32m---> 17\u001b[0m \u001b[38;5;28;01mfrom\u001b[39;00m \u001b[38;5;21;01mvqe_utils\u001b[39;00m \u001b[38;5;28;01mimport\u001b[39;00m read_from_file, MeasureCircuit, evaluation\n\u001b[1;32m     19\u001b[0m \u001b[38;5;28;01mfrom\u001b[39;00m \u001b[38;5;21;01mpauli_utils\u001b[39;00m \u001b[38;5;28;01mimport\u001b[39;00m ChecksFinder\n\u001b[1;32m     21\u001b[0m \u001b[38;5;28;01mfrom\u001b[39;00m \u001b[38;5;21;01mutilities\u001b[39;00m \u001b[38;5;28;01mimport\u001b[39;00m convert_pauli_list\n",
      "\u001b[0;31mModuleNotFoundError\u001b[0m: No module named 'vqe_utils'"
     ]
    }
   ],
   "source": [
    "import re\n",
    "import qiskit\n",
    "import json\n",
    "import time\n",
    "import numpy as np\n",
    "\n",
    "from qiskit import transpile\n",
    "from qiskit_aer import AerSimulator\n",
    "from qiskit.converters import circuit_to_dag\n",
    "\n",
    "from fast_generator import fc_tree_commute_recur_lookahead_fast\n",
    "from absorption import extract_CNOT_network, update_probabilities\n",
    "\n",
    "# from benchmarks.UCCSD_entanglers import generate_UCCSD_entanglers\n",
    "# from circuit_generator import construct_qcc_circuit\n",
    "from utilities import generate_pauli_strings\n",
    "from circuit_generator import generate_opt_circuit, construct_qcc_circuit"
   ]
  },
  {
   "cell_type": "code",
   "execution_count": null,
   "metadata": {},
   "outputs": [],
   "source": [
    "# import numpy as np\n",
    "# from scipy.sparse import csr_matrix\n",
    "# from qiskit.quantum_info import SparsePauliOp\n",
    "\n",
    "# # Assuming 'sparse_matrix' is your sparse matrix of a pure state vector\n",
    "# # Convert the sparse matrix to a dense array (assuming it's a column vector)\n",
    "# state_vector = adapt_qaoa_solution['all_den_mats'].toarray().flatten()  # Flatten if it's a column vector\n",
    "\n",
    "# # Create the density matrix\n",
    "# density_matrix = np.outer(state_vector, state_vector.conj())\n",
    "\n",
    "# # Ensure it is a valid density matrix\n",
    "# # Check Hermitian property\n",
    "# # print(np.allclose(density_matrix, density_matrix.conj().T))\n",
    "# # Check trace\n",
    "# # print(np.isclose(np.trace(density_matrix), 1.0))\n",
    "\n",
    "# test_paulis = SparsePauliOp.from_operator(density_matrix).paulis[1:]\n",
    "# test_params = SparsePauliOp.from_operator(density_matrix).coeffs.real[1:]"
   ]
  },
  {
   "cell_type": "code",
   "execution_count": null,
   "metadata": {},
   "outputs": [],
   "source": [
    "# state_vector = dynamic_adapt_qaoa_solution['all_den_mats'].toarray().flatten()  # Flatten if it's a column vector\n",
    "\n",
    "# # Create the density matrix\n",
    "# density_matrix = np.outer(state_vector, state_vector.conj())\n",
    "# print(density_matrix.shape)\n",
    "# test_paulis = SparsePauliOp.from_operator(density_matrix).paulis[1:]\n",
    "# test_params = SparsePauliOp.from_operator(density_matrix).coeffs.real[1:]"
   ]
  }
 ],
 "metadata": {
  "kernelspec": {
   "display_name": "Python 3 (ipykernel)",
   "language": "python",
   "name": "python3"
  },
  "language_info": {
   "codemirror_mode": {
    "name": "ipython",
    "version": 3
   },
   "file_extension": ".py",
   "mimetype": "text/x-python",
   "name": "python",
   "nbconvert_exporter": "python",
   "pygments_lexer": "ipython3",
   "version": "3.12.4"
  }
 },
 "nbformat": 4,
 "nbformat_minor": 4
}
