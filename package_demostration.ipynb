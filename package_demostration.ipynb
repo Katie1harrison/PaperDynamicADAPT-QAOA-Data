{
 "cells": [
  {
   "attachments": {},
   "cell_type": "markdown",
   "metadata": {},
   "source": [
    "## Quantum Approximate Optimisation Algorithm in Python\n",
    "\n",
    "This notebook demostrates how the package in this repository can be used to solve quadratic unconstrained binary optimisation (QUBO) problems, expressed in the context of the max-cut problem from graph theory, using a quantum algorithm.\n",
    "\n",
    "We start by first defining the graph using the $\\texttt{networkx}$ package in Python. In this example we will be considering a quite simple complete graph with 4 vertices, where the weights of each edge are\n",
    "uniformly distributed between 0 and 1."
   ]
  },
  {
   "cell_type": "code",
   "execution_count": 1,
   "metadata": {},
   "outputs": [],
   "source": [
    "import re\n",
    "import qiskit\n",
    "import json\n",
    "import time\n",
    "import numpy as np\n",
    "\n",
    "from qiskit import transpile\n",
    "from qiskit_aer import AerSimulator\n",
    "from qiskit.converters import circuit_to_dag\n",
    "\n",
    "from src_code import build_operators\n",
    "from src_code import graph_generator, get_data, build_operators"
   ]
  },
  {
   "cell_type": "code",
   "execution_count": null,
   "metadata": {},
   "outputs": [],
   "source": []
  },
  {
   "cell_type": "code",
   "execution_count": 2,
   "metadata": {},
   "outputs": [],
   "source": [
    "# Draw Graph\n",
    "# pos=nx.circular_layout(graph)\n",
    "# nx.draw_networkx(graph, pos)\n",
    "# labels = nx.get_edge_attributes(graph,'weight')\n",
    "# for edge in labels:\n",
    "#     labels[edge] = round(labels[edge], 3)\n",
    "# tmp = nx.draw_networkx_edge_labels(graph, pos, edge_labels=labels)\n"
   ]
  },
  {
   "attachments": {},
   "cell_type": "markdown",
   "metadata": {},
   "source": [
    "Once we have generated the graph, we can define the Ising Hamiltonian whose maximum energy eigenstate corresponds to the solution to the problem. This is given by $$\\hat{H}_C=-\\frac{1}{4}\\sum_{i,j=0}^{n-1}W_{ij}\\hat{Z}_i\\hat{Z}_j.$$ It should be noted that the eigenvalues of this Hamiltonian are not exactly equal to the values of their corresponding cuts. They differ by a constant term $A = \\frac{1}{4}\\sum_{i,j=0}^{n-1}W_{ij}$, which is removed as it doesn't influence to the operation of the algorithm. It is later added back in to generate correct results. Additionally, we can define all the commutators $$\\left[\\hat{H}_C,-i\\hat{A}\\right]\\quad\\forall \\quad\\hat{A}\\in\\mathcal{P}.$$ These are used to find the gradients in parameter space at each iteration which are used to determine which mixer operator from the pool $\\mathcal{P}$ to be added to the ADAPT-QAOA circuit in the current layer."
   ]
  },
  {
   "cell_type": "code",
   "execution_count": 3,
   "metadata": {},
   "outputs": [],
   "source": [
    "no_vertices = 3\n",
    "graph = graph_generator.generate_graph(no_vertices)\n",
    "\n",
    "weights = build_operators.cut_hamiltonian(graph[0])[1]\n",
    "\n",
    "gradient_ops_dict = build_operators.build_all_mixers(graph[0])\n",
    "\n",
    "filtered_gradient_ops_dict = {key: value for key, value in gradient_ops_dict.items() if 'Y' not in key}"
   ]
  },
  {
   "cell_type": "code",
   "execution_count": null,
   "metadata": {},
   "outputs": [],
   "source": []
  },
  {
   "attachments": {},
   "cell_type": "markdown",
   "metadata": {},
   "source": [
    "In order to make the generation of the unitaries in the ansatz quicker between iterations of both the overall algorithm and the classical optimsation scheme, it is useful to pre-compute all the Pauli strings appearing in the exponents of the unitaries. This then allows one to use the identity $$e^{i\\alpha\\hat{P}}=\\cos(\\alpha)\\hat{I}+i\\sin(\\alpha)\\hat{P}$$ for single Pauli strings, to find the unitaries using simple floating point arithmetic, rather than matrix exponentiation during each iteration."
   ]
  },
  {
   "cell_type": "code",
   "execution_count": 4,
   "metadata": {},
   "outputs": [],
   "source": [
    "pauli_ops_dict = build_operators.build_all_paulis(no_vertices)\n",
    "filtered_pauli_ops_dict = {key: value for key, value in pauli_ops_dict.items() if 'Y' not in key}\n"
   ]
  },
  {
   "attachments": {},
   "cell_type": "markdown",
   "metadata": {},
   "source": [
    "All this pre-computation allows for significant speed-up in the execution of the algorithms. We now move on to actually running QAOA on the graph. We first perform the standard non-adaptive algorithm. To do so we require to pick a specific depth for the circuit, i.e., the number of layers it will contain. We set this to 5."
   ]
  },
  {
   "cell_type": "code",
   "execution_count": 22,
   "metadata": {},
   "outputs": [],
   "source": [
    "circuit_depth = 2\n",
    "qaoa_solution = get_data.run_standard_qaoa(graph[0], depth=circuit_depth, pauli_ops_dict=pauli_ops_dict)"
   ]
  },
  {
   "cell_type": "code",
   "execution_count": 23,
   "metadata": {},
   "outputs": [
    {
     "name": "stdout",
     "output_type": "stream",
     "text": [
      "cut_approx_ratio: 0.9975880629031183\n",
      "ham_approx_ratio: 0.9947372465741234\n",
      "optimised_Hamiltonian_unitary_parameters: [-1.6408562359564474, 3.9669387104283538]\n",
      "optimised_mixer_unitary_parameters: [1.1498712384775749, 0.401598125972599]\n"
     ]
    }
   ],
   "source": [
    "for key in qaoa_solution:\n",
    "    print(key+':', qaoa_solution[key])"
   ]
  },
  {
   "attachments": {},
   "cell_type": "markdown",
   "metadata": {},
   "source": [
    "We now move on the ADAPT-QAOA. We use the same maximum depth of 5 as above."
   ]
  },
  {
   "cell_type": "code",
   "execution_count": 24,
   "metadata": {},
   "outputs": [
    {
     "name": "stdout",
     "output_type": "stream",
     "text": [
      "Initial Cut Approximation Ratio: 0.5416967314063463 \n",
      "\n",
      "Finding Best Mixer for layer 1...\n",
      "\tBest mixer is standard_x with gradient magnitude 0.026390259272443036\n",
      "\n",
      "Optimising layer 1...\n",
      "\tInitial Parameter Guesses: [0.0, 0.01]\n",
      "\tOptimisation completed wih following outcome:\n",
      "\t\tNumber of iterations performed: 14\n",
      "\t\tNumber of expectation evaluations performed: 57\n",
      "\t\tSuccess: True\n",
      "\t\tOptimiser message: Optimization terminated successfully.\n",
      "\tOptimised mixer unitary parameters: 0.358\n",
      "\tOptimised Hamiltonian unitary parameters: 1.16\n",
      "\n",
      "Current Cut Approximation Ratio: 0.8229297003698184\n",
      "State Probabilities:\n",
      "State 000: Probability 0.0044\n",
      "State 001: Probability 0.1116\n",
      "State 010: Probability 0.0916\n",
      "State 011: Probability 0.2924\n",
      "State 100: Probability 0.2924\n",
      "State 101: Probability 0.0916\n",
      "State 110: Probability 0.1116\n",
      "State 111: Probability 0.0044\n",
      "\n",
      "\n",
      "Finding Best Mixer for layer 2...\n",
      "\tBest mixer is X2 with gradient magnitude 0.21425298911048063\n",
      "\n",
      "Optimising layer 2...\n",
      "\tInitial Parameter Guesses: [0.3583260858193264, 0.0, 1.1613738014216684, 0.01]\n",
      "\tOptimisation completed wih following outcome:\n",
      "\t\tNumber of iterations performed: 11\n",
      "\t\tNumber of expectation evaluations performed: 70\n",
      "\t\tSuccess: True\n",
      "\t\tOptimiser message: Optimization terminated successfully.\n",
      "\tOptimised mixer unitary parameters: 0.787, -0.918\n",
      "\tOptimised Hamiltonian unitary parameters: 1.94, 0.00202\n",
      "\n",
      "Current Cut Approximation Ratio: 0.998635495169607\n",
      "State Probabilities:\n",
      "State 000: Probability 0.0000\n",
      "State 001: Probability 0.0010\n",
      "State 010: Probability 0.0006\n",
      "State 011: Probability 0.4983\n",
      "State 100: Probability 0.4983\n",
      "State 101: Probability 0.0006\n",
      "State 110: Probability 0.0010\n",
      "State 111: Probability 0.0000\n",
      "\n",
      "\n"
     ]
    }
   ],
   "source": [
    "adapt_qaoa_solution = get_data.run_adapt_qaoa(graph[0], filtered_pauli_ops_dict, filtered_gradient_ops_dict, circuit_depth)"
   ]
  },
  {
   "cell_type": "code",
   "execution_count": null,
   "metadata": {
    "scrolled": true
   },
   "outputs": [],
   "source": []
  },
  {
   "cell_type": "code",
   "execution_count": 25,
   "metadata": {},
   "outputs": [
    {
     "name": "stdout",
     "output_type": "stream",
     "text": [
      "cut_approx_ratios: [0.5416967314063463, 0.8229297003698184, 0.998635495169607]\n",
      "ham_approx_ratios: [0.0, 0.6136394571796567, 0.9970227032537209]\n",
      "best_mixers: ['standard_x', 'X2']\n",
      "Probabilities: [1.39134673e-09 1.01887850e-03 6.42231725e-04 4.98338888e-01\n",
      " 4.98338888e-01 6.42231725e-04 1.01887850e-03 1.39134671e-09]\n",
      "best_mixer_parameters: [0.7873136409620807, -0.9175011663034471]\n",
      "best_ham_parameters: [1.9379397478028648, 0.002023738374564865]\n"
     ]
    }
   ],
   "source": [
    "for key in adapt_qaoa_solution:\n",
    "    if key == 'all_mixers':\n",
    "        continue\n",
    "    print(key+':', adapt_qaoa_solution[key])"
   ]
  },
  {
   "attachments": {},
   "cell_type": "markdown",
   "metadata": {},
   "source": [
    "Finally, we solve the problem using the Dynamic ADAPT-QAOA which determines at each layer whether it is beneficial to the classical optimisation to include a Hamiltonian unitary or not. To do this, it is useful to generate a dictionary containing splits of each mixer operator into two operators, one which commutes with the Hamiltonian, and one which anti-commutes with it. This is possible for all mixers which are single Pauli strings."
   ]
  },
  {
   "cell_type": "code",
   "execution_count": 19,
   "metadata": {},
   "outputs": [],
   "source": [
    "# pauli_mixers_split_ops_dict = build_operators.split_all_mixers(graph[0])\n",
    "# filtered_pauli_mixers_split_ops_dict = {key: value for key, value in pauli_mixers_split_ops_dict.items() if 'Y' not in key}\n"
   ]
  },
  {
   "cell_type": "code",
   "execution_count": 20,
   "metadata": {},
   "outputs": [],
   "source": [
    "# dynamic_adapt_qaoa_solution = get_data.run_dynamic_adapt_qaoa(graph[0], filtered_pauli_ops_dict, filtered_gradient_ops_dict, filtered_pauli_mixers_split_ops_dict, max_depth=circuit_depth)"
   ]
  },
  {
   "cell_type": "code",
   "execution_count": 21,
   "metadata": {},
   "outputs": [],
   "source": [
    "# for key in dynamic_adapt_qaoa_solution:\n",
    "#     if key == 'all_mixers':\n",
    "#         continue\n",
    "#     print(key+':', dynamic_adapt_qaoa_solution[key])"
   ]
  },
  {
   "attachments": {},
   "cell_type": "markdown",
   "metadata": {},
   "source": [
    "Overall, we see that the three algorithm implementations converge to a good approximation ratio, with the adaptive problem-tailored ones achieving better results. The dynamic algorithm converges quicker compared to the non-dynamic version."
   ]
  },
  {
   "cell_type": "code",
   "execution_count": 12,
   "metadata": {},
   "outputs": [],
   "source": [
    "import re\n",
    "import qiskit\n",
    "import json\n",
    "import time\n",
    "import numpy as np\n",
    "\n",
    "from qiskit import transpile\n",
    "from qiskit_aer import AerSimulator\n",
    "from qiskit.converters import circuit_to_dag\n",
    "\n",
    "from fast_generator import fc_tree_commute_recur_lookahead_fast\n",
    "from absorption import extract_CNOT_network, update_probabilities\n",
    "\n",
    "# from benchmarks.UCCSD_entanglers import generate_UCCSD_entanglers\n",
    "from utilities import generate_pauli_strings\n",
    "from circuit_generator import generate_opt_circuit, construct_qcc_circuit"
   ]
  },
  {
   "cell_type": "code",
   "execution_count": 37,
   "metadata": {},
   "outputs": [
    {
     "ename": "SyntaxError",
     "evalue": "positional argument follows keyword argument (1777513662.py, line 55)",
     "output_type": "error",
     "traceback": [
      "\u001b[0;36m  Cell \u001b[0;32mIn[37], line 55\u001b[0;36m\u001b[0m\n\u001b[0;31m    opt_qc, append_clifford, sorted_entanglers = fc_tree_commute_recur_lookahead_fast(entanglers=expand_pauli_strings(test_paulis, test_params)[0], expand_pauli_strings(test_paulis, test_params)[1], barrier=False)\u001b[0m\n\u001b[0m                                                                                                                                                                                                                    ^\u001b[0m\n\u001b[0;31mSyntaxError\u001b[0m\u001b[0;31m:\u001b[0m positional argument follows keyword argument\n"
     ]
    }
   ],
   "source": [
    "#QAOA for MAXCUT \n",
    "# cost_hamiltonian = ['IIIZZ', 'IIZIZ', 'ZIIIZ', 'IIZZI', 'IZZII', 'ZZIII']\n",
    "# mixer_hamiltonian = ['XIIII', 'IXIII', 'IIXII', 'IIIXI', 'IIIIX']\n",
    "# test_paulis = (cost_hamiltonian + mixer_hamiltonian)* 2\n",
    "# test_params = [3.271] * 6 +   [2.874] * 5 + [2.641] * 6 + [0.9339]* 5\n",
    "\n",
    "\n",
    "cost_hamiltonian = build_operators.cut_hamiltonian(graph[0])[1]\n",
    "mixer_hamiltonian = adapt_qaoa_solution['best_mixers']\n",
    "weights = graph[1]\n",
    "cost_parameters = adapt_qaoa_solution['best_ham_parameters']\n",
    "mixer_parameters = adapt_qaoa_solution['best_mixer_parameters']\n",
    "\n",
    "\n",
    "# test_paulis = #alternate between cost_hamiltonian and one item from the mixer_hamiltonian list\n",
    "# test_params = \n",
    "\n",
    "test_paulis = []\n",
    "test_params = []\n",
    "\n",
    "# Alternate between cost_hamiltonian and mixer_hamiltonian elements\n",
    "for i in range(len(mixer_hamiltonian)):\n",
    "    # Add cost Hamiltonian terms\n",
    "    test_paulis.extend(cost_hamiltonian)\n",
    "    test_params.extend([-1 * cost_parameters[i] * w for w in weights])  # Multiply cost parameters by -1\n",
    "    \n",
    "    # Add corresponding mixer Hamiltonian term\n",
    "    test_paulis.append(mixer_hamiltonian[i])\n",
    "    test_params.append(mixer_parameters[i] * 2)  # Multiply mixer parameters by 2\n",
    "\n",
    "# Print results to verify\n",
    "print(\"Pauli Strings:\", test_paulis)\n",
    "print(\"Coefficients:\", test_params)\n",
    "\n",
    "\n",
    "def expand_pauli_strings(pauli_strings, coefficients):\n",
    "    expanded_paulis = []\n",
    "    expanded_coeffs = []\n",
    "    replacement_terms = {\n",
    "        'standard_x': ['IIX', 'IXI', 'XII'],  # Replace 'standard_x' with 3 terms\n",
    "        'X2': ['IIX']  # Replace 'X2' with 'IIX'\n",
    "    }\n",
    "\n",
    "    for i, pauli in enumerate(pauli_strings):\n",
    "        if pauli in replacement_terms:\n",
    "            expanded_paulis.extend(replacement_terms[pauli])  # Replace with corresponding terms\n",
    "            expanded_coeffs.extend([coefficients[i]] * len(replacement_terms[pauli]))  # Repeat coefficient\n",
    "        else:\n",
    "            expanded_paulis.append(pauli)\n",
    "            expanded_coeffs.append(coefficients[i])\n",
    "\n",
    "    return expanded_paulis, expanded_coeffs\n",
    "\n",
    "start_time = time.time()\n",
    "opt_qc, append_clifford, sorted_entanglers = fc_tree_commute_recur_lookahead_fast(entanglers=expand_pauli_strings(test_paulis, test_params)[0], params=expand_pauli_strings(test_paulis, test_params)[1], barrier=False)\n",
    "opt_qiskit = transpile(opt_qc, optimization_level=3, basis_gates=[\"cx\", \"sx\", \"x\", \"rz\"])\n",
    "\n",
    "#need to add a layer of hadamard gates:\n",
    "for i in range(0, len(test_paulis[0])):\n",
    "    opt_qc.h(i)\n",
    "opt_qc.measure_active()\n",
    "end_time = time.time()\n",
    "combined_time = end_time - start_time\n",
    "\n",
    "\n",
    "origin_qc = construct_qcc_circuit(entanglers = test_paulis, params = test_params, barrier=False)\n",
    "#generate the qiskit optimized circuit\n",
    "origin_qiskit = transpile(origin_qc, optimization_level = 3, basis_gates = [\"cx\", \"sx\", \"x\", \"rz\"])\n",
    "origin_qiskit.measure_active() \n",
    "origin_qiskit.count_ops()['cx']\n",
    "\n",
    "expand_pauli_strings(test_paulis, test_params)[0]"
   ]
  },
  {
   "cell_type": "code",
   "execution_count": 13,
   "metadata": {},
   "outputs": [],
   "source": [
    "# import numpy as np\n",
    "# from scipy.sparse import csr_matrix\n",
    "# from qiskit.quantum_info import SparsePauliOp\n",
    "\n",
    "# # Assuming 'sparse_matrix' is your sparse matrix of a pure state vector\n",
    "# # Convert the sparse matrix to a dense array (assuming it's a column vector)\n",
    "# state_vector = adapt_qaoa_solution['all_den_mats'].toarray().flatten()  # Flatten if it's a column vector\n",
    "\n",
    "# # Create the density matrix\n",
    "# density_matrix = np.outer(state_vector, state_vector.conj())\n",
    "\n",
    "# # Ensure it is a valid density matrix\n",
    "# # Check Hermitian property\n",
    "# # print(np.allclose(density_matrix, density_matrix.conj().T))\n",
    "# # Check trace\n",
    "# # print(np.isclose(np.trace(density_matrix), 1.0))\n",
    "\n",
    "# test_paulis = SparsePauliOp.from_operator(density_matrix).paulis[1:]\n",
    "# test_params = SparsePauliOp.from_operator(density_matrix).coeffs.real[1:]"
   ]
  },
  {
   "cell_type": "code",
   "execution_count": 14,
   "metadata": {},
   "outputs": [],
   "source": [
    "# state_vector = dynamic_adapt_qaoa_solution['all_den_mats'].toarray().flatten()  # Flatten if it's a column vector\n",
    "\n",
    "# # Create the density matrix\n",
    "# density_matrix = np.outer(state_vector, state_vector.conj())\n",
    "# print(density_matrix.shape)\n",
    "# test_paulis = SparsePauliOp.from_operator(density_matrix).paulis[1:]\n",
    "# test_params = SparsePauliOp.from_operator(density_matrix).coeffs.real[1:]"
   ]
  }
 ],
 "metadata": {
  "kernelspec": {
   "display_name": "Python 3 (ipykernel)",
   "language": "python",
   "name": "python3"
  },
  "language_info": {
   "codemirror_mode": {
    "name": "ipython",
    "version": 3
   },
   "file_extension": ".py",
   "mimetype": "text/x-python",
   "name": "python",
   "nbconvert_exporter": "python",
   "pygments_lexer": "ipython3",
   "version": "3.12.4"
  }
 },
 "nbformat": 4,
 "nbformat_minor": 4
}
